{
  "nbformat": 4,
  "nbformat_minor": 0,
  "metadata": {
    "colab": {
      "name": "Baurice_Nafack_tutorial_project.ipynb",
      "provenance": []
    },
    "kernelspec": {
      "name": "python3",
      "display_name": "Python 3"
    }
  },
  "cells": [
    {
      "cell_type": "markdown",
      "metadata": {
        "id": "AN3zobmbEXTk"
      },
      "source": [
        "$H(\\vec{\\sigma}) =- \\sum_{x=1}^L \\sigma_x \\left[\\frac{J}{2}(\\sigma_{x+1} + \\sigma_{x-1}) + h \\right]$ with $L+x = x$\n"
      ]
    },
    {
      "cell_type": "code",
      "metadata": {
        "id": "ceXS286WDAri"
      },
      "source": [
        "import numpy as np\n",
        "import matplotlib.pyplot as plt\n"
      ],
      "execution_count": null,
      "outputs": []
    },
    {
      "cell_type": "markdown",
      "metadata": {
        "id": "2zesqrwDDhEQ"
      },
      "source": [
        "#1 Problem: The 1D Ising model"
      ]
    },
    {
      "cell_type": "markdown",
      "metadata": {
        "id": "WUigCv0nDu0J"
      },
      "source": [
        " Write a function that takes as arguments an array of L spins, $\\vec{\\sigma} = \\{σ_1,...,σ_L\\}$, the coupling constant J, and the magnetic ﬁeld h, and returns the energy of that conﬁguration $\\vec{\\sigma}$ (be careful about the boundary condition). "
      ]
    },
    {
      "cell_type": "code",
      "metadata": {
        "id": "K0LLT8kEDTCX"
      },
      "source": [
        "def energy(sigma,J,h):\n",
        "  \"\"\"This function allow us to compute the energy of configuration sigma, \n",
        "  with J the coupling constant and h the magnatic field\"\"\"\n",
        "\n",
        "  L = len(sigma)\n",
        "  sum = 0\n",
        "  for i in range(L):\n",
        "    if ((i-1)>=0)&(i+1<L): # this condition is use the verify the boundary condition\n",
        "      sum = sum -sigma[i]*(J/2*(sigma[i-1] + sigma[i+1])+ h)\n",
        "    elif i-1 <0: # this condition is use to consider the boundary condition in the left of sigma\n",
        "      sum = sum -sigma[i]*(J/2*(sigma[L-1] + sigma[i+1])+ h)\n",
        "    elif i+1 == L: #this condition is use to consider the boundary condition in the right of sigma\n",
        "       sum = sum -sigma[i]*(J/2*(sigma[i-1] + sigma[0])+ h)\n",
        "  return sum"
      ],
      "execution_count": null,
      "outputs": []
    },
    {
      "cell_type": "markdown",
      "metadata": {
        "id": "Cb2KAGgdMCU7"
      },
      "source": [
        "Write a function that compute the absolute value of the magnetization of the sequence $\\vec{\\sigma}$ (normalized between $0$ and $1$)."
      ]
    },
    {
      "cell_type": "code",
      "metadata": {
        "id": "hBgm_afPLnl3"
      },
      "source": [
        "def Magnetization(sigma):\n",
        "  \"\"\" This function compute the magnetization of sigma and return the \n",
        "  absolute value between 0 and 1\"\"\"\n",
        "  \"\"\"sigma must be an array\"\"\"\n",
        "  sigma= np.array(sigma)\n",
        "  return np.abs(sigma.sum()/len(sigma))"
      ],
      "execution_count": null,
      "outputs": []
    },
    {
      "cell_type": "markdown",
      "metadata": {
        "id": "YazstCr7cVKX"
      },
      "source": [
        " Check that for a sequence of aligned spins and $h = 0$, the ﬁrst function that you wrote returns the energy$−J∗L$, while the second one a magnetization of 1. "
      ]
    },
    {
      "cell_type": "code",
      "metadata": {
        "colab": {
          "base_uri": "https://localhost:8080/"
        },
        "id": "FA7F2rMVQM2Z",
        "outputId": "642858e2-86f3-4ac5-a975-5ec6fcf8c925"
      },
      "source": [
        "A = 10 # length sigma\n",
        "sigma1 = [1 for i in range(A)]\n",
        "sigma2 = [-1 for i in range(A)]\n",
        "J= 0.5\n",
        "h=0\n",
        "print(\"The value of the energy for h ={} with {} as size is {} knowing that all the spin are up.\".format(h,len(sigma1),energy(sigma1,J,h)))\n",
        "print(\"The value of the magnatization is {}\".format(Magnetization(sigma1)))\n",
        "print(\"The value of the energy for h ={} with {} as size is {} knowing that all the spin are down.\".format(h,len(sigma2),energy(sigma2,J,h)))\n",
        "print(\"The value of the magnatization is {}\".format(Magnetization(sigma2)))"
      ],
      "execution_count": null,
      "outputs": [
        {
          "output_type": "stream",
          "text": [
            "The value of the energy for h =0 with 10 as size is -5.0 knowing that all the spin are up.\n",
            "The value of the magnatization is 1.0\n",
            "The value of the energy for h =0 with 10 as size is -5.0 knowing that all the spin are down.\n",
            "The value of the magnatization is 1.0\n"
          ],
          "name": "stdout"
        }
      ]
    },
    {
      "cell_type": "markdown",
      "metadata": {
        "id": "m0uP2nBD30RB"
      },
      "source": [
        " Check that for a sequence of randomly generated spins and h = 0, the energy is distributed around zero.\n"
      ]
    },
    {
      "cell_type": "code",
      "metadata": {
        "id": "MbCPK84DQQaB"
      },
      "source": [
        "# let's generate a sequence of random number and compute the energy\n",
        "np.random.seed(1234)\n",
        "ener =[] # for energy\n",
        "n= 1000 # nomber of sequences\n",
        "h=0\n",
        "j=0.5\n",
        "for i in range(5,n):\n",
        "  sigma = 2*np.random.randint(0,2,i) - 1\n",
        "  ener.append(energy(sigma,j,h))\n",
        "sequence = [ i for i in range(5,n)]"
      ],
      "execution_count": null,
      "outputs": []
    },
    {
      "cell_type": "code",
      "metadata": {
        "colab": {
          "base_uri": "https://localhost:8080/",
          "height": 338
        },
        "id": "gGD5SPo4_Gp6",
        "outputId": "86dd0062-17cc-4362-dc91-e6249667b063"
      },
      "source": [
        "plt.figure(figsize=(10,5))\n",
        "plt.xlabel(\"Dirtribution of energy for n={}\".format(n), fontsize=14)\n",
        "plt.ylabel(\"Probability distribution\", fontsize=14)\n",
        "res = plt.hist(ener, bins=20, density=True)"
      ],
      "execution_count": null,
      "outputs": [
        {
          "output_type": "display_data",
          "data": {
            "image/png": "[encoded data removed]",
            "text/plain": [
              "<Figure size 720x360 with 1 Axes>"
            ]
          },
          "metadata": {
            "tags": [],
            "needs_background": "light"
          }
        }
      ]
    },
    {
      "cell_type": "markdown",
      "metadata": {
        "id": "wBqLUV8PFYgC"
      },
      "source": [
        "From the graph, we notice that the distribution of the energy is around 0"
      ]
    },
    {
      "cell_type": "markdown",
      "metadata": {
        "id": "1EHNA_pFHkPi"
      },
      "source": [
        "# 2)Metropolis Markov chain"
      ]
    },
    {
      "cell_type": "markdown",
      "metadata": {
        "id": "qzR4rfFOHotC"
      },
      "source": [
        "To generate samples from the canonical probability distribution over the microstates $\\vec{\\sigma}$ you will write the basic Metropolis algorithm. The ﬁrst step is to generate a transition between two conﬁgurations. The Metropolis algorithm prescribes that, given $\\vec{\\sigma}$, you ﬂip a spin, say $\\bar x$ , generating a candidate conﬁguration $\\vec{\\sigma}'$, where $\\vec{\\sigma}_{\\bar x}' = − \\vec{\\sigma}_{\\bar x}$. Then the energy diﬀerence between the two conﬁguration is computed, let us call it $∆E = H(\\vec{\\sigma}') −H(\\vec{\\sigma})$. If $∆E ≤ 0$, accept the new candidate, if not, accept the candidate only with probability p = exp[−β∆E]. "
      ]
    },
    {
      "cell_type": "markdown",
      "metadata": {
        "id": "84SbRbi6MD_w"
      },
      "source": [
        "a) First, write a formula to compute ∆E and test it"
      ]
    },
    {
      "cell_type": "code",
      "metadata": {
        "colab": {
          "base_uri": "https://localhost:8080/"
        },
        "id": "NmbbLynlV0tg",
        "outputId": "f8ffd664-9840-44df-9864-3056adf37fec"
      },
      "source": [
        "#  J = 1, h = 0.1, σ = (−1,1,1)\n",
        "J=1; h= 0.1\n",
        "sigma = [-1,1,1]\n",
        "sigma1 = np.copy(sigma)\n",
        "\n",
        "#g = np.random.choice(range(len(sigma))) #choose a spin index to flip\n",
        "g= 0\n",
        "sigma1[g] = -sigma1[g] # flip the corresponding spin at the index g.\n",
        "L=len(sigma)\n",
        "delta = energy(sigma1,J,h) -energy(sigma,J,h)\n",
        "if delta<=0:\n",
        "  print(\"the difference energy is {} and the index of spin is {}\".format(delta,g))\n"
      ],
      "execution_count": null,
      "outputs": [
        {
          "output_type": "stream",
          "text": [
            "the difference energy is -4.2 and the index of spin is 0\n"
          ],
          "name": "stdout"
        }
      ]
    },
    {
      "cell_type": "markdown",
      "metadata": {
        "id": "XyCIOqLRckD3"
      },
      "source": [
        "a) Write a function that takes as arguments a conﬁguration, $\\vec{\\sigma}$, the coupling constant J, and the magnetic ﬁeld h, the inverse temperature β, and returns a new conﬁguration according to the Metropolis prescription. "
      ]
    },
    {
      "cell_type": "code",
      "metadata": {
        "id": "MoWFaYDzVDL4"
      },
      "source": [
        "def Metropolis(sigma,J,h,b):\n",
        "  \"\"\"This funtion function flip a spin inside the configuration sigma and \n",
        "  return new configuration according to Metropolis prescription, \n",
        "  b is the inverse temperature, h: magnatic field,J coupling constant\"\"\"\n",
        "\n",
        "  sigma1 = np.copy(sigma)\n",
        "  g = np.random.choice(range(len(sigma))) #choose the spin index to flip\n",
        "  sigma1[g] = -sigma1[g] # flip the corresponding spin at g.\n",
        "  delta = energy(sigma1,J,h) -energy(sigma,J,h)\n",
        "  if delta<=0 or np.random.rand()<=np.exp(-b*delta):\n",
        "   sigma[g] = -sigma[g]\n",
        "  return sigma"
      ],
      "execution_count": null,
      "outputs": []
    },
    {
      "cell_type": "markdown",
      "metadata": {
        "id": "6VlGwQWoiBq0"
      },
      "source": [
        "c)  Iterate the function above for some steps starting from a random initial conﬁguration of L = 200 spins. Check that, choosing a small temperature $\\beta = 10$, and a small magnetic ﬁeld h = 0.1, you end up in a conﬁguration where all the spins are aligned to 1 after enough iterations.\n"
      ]
    },
    {
      "cell_type": "code",
      "metadata": {
        "colab": {
          "base_uri": "https://localhost:8080/"
        },
        "id": "SkG5CajndG-d",
        "outputId": "af19e011-f9b9-41dd-b2ea-dfae2947a25f"
      },
      "source": [
        "# parameter\n",
        "import time\n",
        "L= 2000\n",
        "J=1\n",
        "b= 10\n",
        "h=0.1\n",
        "np.random.seed(23478)\n",
        "sigma = 2*np.random.randint(0,2,L)-1 # Initial state\n",
        "\n",
        "states = []\n",
        "a=np.array(sigma)\n",
        "# Time steps of the chain\n",
        "t=0\n",
        "t1 = time.time()\n",
        "while len(a[a>0])!= len(a):\n",
        "  t=t+1\n",
        "  sigma =Metropolis(sigma,J,h,b)\n",
        "  a= np.array(sigma)\n",
        "print(\"The first times to get the confirguration where all the spin are up is {} s after {} iteration\".format(time.time()-t1,t))"
      ],
      "execution_count": null,
      "outputs": [
        {
          "output_type": "stream",
          "text": [
            "The first times to get the confirguration where all the spin are up is 509.35045313835144 s after 21420 iteration\n"
          ],
          "name": "stdout"
        }
      ]
    },
    {
      "cell_type": "markdown",
      "metadata": {
        "id": "2k35jIjqdTjE"
      },
      "source": [
        "#2.2 Generating samples and computing the magnetization"
      ]
    },
    {
      "cell_type": "markdown",
      "metadata": {
        "id": "rhhR7Sc3dZBJ"
      },
      "source": [
        "You know that the Markov chain of states obtained through iteration of the previous function does not generate reliable samples. Indeed, you need to equilibrate the chain and also discard a lot of samples to remove correlation. By using properly generated samples, you can compute the average absolute magnetization over them: $<M> = \\frac{1}{N}\\sum_{\\vec{\\sigma}}|M(\\vec{\\sigma})|$ with $M(\\vec{\\sigma}) = \\frac{1}{L}\\sum_j \\sigma_j$"
      ]
    },
    {
      "cell_type": "markdown",
      "metadata": {
        "id": "9dJpJj8zfFCV"
      },
      "source": [
        "a) Write a function that generates reliable samples with the Metropolis algorithm. The function takes as argument the length of the chain L, the inverse temperature $\\beta$, the coupling constant J, the magnetic ﬁeld h, the equilibration time $t_e$, the correlation time $t_c$ and the number of samples N. It returns the list/array of the N generated good samples. Remember to discard the samples for the equilibration and for the removal of correlations. Each time you get a new good sample add it to a list.\n"
      ]
    },
    {
      "cell_type": "code",
      "metadata": {
        "id": "OI-gjlCudJQ9"
      },
      "source": [
        "from copy import copy\n",
        "\n",
        "def Samples_Metropolis(L,beta,J,h,te,tc,N):\n",
        "  \"\"\" \"L\" is the length of the chain, \"beta\" inverse temperature, \"J\" coupling constant\n",
        "  \"h\" maganetic field, \"te\" equilibration time, \"tc\" correlation time and \"N\" number of samples\n",
        "  the function return a liste of N independant samples\"\"\"\n",
        "\n",
        "  sigma1 = 2*np.random.randint(0,2,L)-1 # Initial state\n",
        "  states = []\n",
        "  # Time steps of the chain\n",
        "  t=0\n",
        "  while t<=te+1:\n",
        "    t=t+1\n",
        "    sigma1 =Metropolis(sigma1,J,h,beta)\n",
        "  # We have already gotten the starting configuration to build independent good samples.\n",
        "  compt = 0\n",
        "  while compt<=N :\n",
        "    for _ in range(tc+1):\n",
        "      sigma1 =Metropolis(sigma1,J,h,beta)\n",
        "    \n",
        "    a=np.array(sigma1)\n",
        "    states.append(copy(sigma1))\n",
        "    compt +=1\n",
        "  \n",
        "  return states\n",
        "\n",
        "      \n",
        "  \n"
      ],
      "execution_count": null,
      "outputs": []
    },
    {
      "cell_type": "markdown",
      "metadata": {
        "id": "vmQezqYzdX2E"
      },
      "source": [
        "b) Check that the average absolute magnetization computed over the samples generated with the previous function is close to 1 for h = 0.1 and $\\beta = 3$ (use also $L = 200, te = 30000, tc = 5000, N$ as large as you can). Check also that it is close to zero for $\\beta = 0.1$. "
      ]
    },
    {
      "cell_type": "code",
      "metadata": {
        "id": "oPTUs5CUHA_j"
      },
      "source": [
        "h = 0.1; beta1 = 3; L=200; te = 30000; tc = 5000;J=1;N=100;beta2 = 0.1;\n",
        "sample1 = Samples_Metropolis(L,beta1,J,h,te,tc,N)\n",
        "sample2 = Samples_Metropolis(L,beta2,J,h,te,tc,N)\n",
        "print(\"The mean of the magnetization for beta egale {} is {}\".format(beta1,np.mean(sample1)))\n",
        "print(\"The mean of the magnetization for beta egale {} is {}\".format(beta2,np.mean(sample2)))"
      ],
      "execution_count": null,
      "outputs": []
    },
    {
      "cell_type": "code",
      "metadata": {
        "id": "2fzh1Ue-be4G"
      },
      "source": [
        "np.mean(sample2[1])"
      ],
      "execution_count": null,
      "outputs": []
    },
    {
      "cell_type": "markdown",
      "metadata": {
        "id": "XM47SUaRnsTn"
      },
      "source": [
        "c) Using the function above plot the average absolute magnetization as a function of diﬀerent temperatures."
      ]
    },
    {
      "cell_type": "code",
      "metadata": {
        "id": "MoOpmmcniwOn"
      },
      "source": [
        "b=np.linspace(0.1,3,10)\n",
        "h = 0.1; beta1 = 3; L=200; te = 30000; tc = 5000;J=1;N=100;beta2 = 0.1;\n",
        "mean = []\n",
        "for i in b:\n",
        "  mean.append(np.mean(Samples_Metropolis(L,i,J,h,te,tc,N)))"
      ],
      "execution_count": null,
      "outputs": []
    },
    {
      "cell_type": "code",
      "metadata": {
        "id": "QQBCAREDLXAA"
      },
      "source": [
        "plt.figure(figsize= (10,5))\n",
        "plt.plot(b,mean)\n",
        "plt.xlabel('Temperature')\n",
        "plt.ylabel('Magnetization')\n",
        "plt.show()"
      ],
      "execution_count": null,
      "outputs": []
    },
    {
      "cell_type": "markdown",
      "metadata": {
        "id": "7PNT0JCsnCdO"
      },
      "source": [
        " Use the function for generating samples of the Ising model to give a numerical answer to the questions of the theoretical part.\n"
      ]
    },
    {
      "cell_type": "code",
      "metadata": {
        "id": "2rQO3aiqnBn2"
      },
      "source": [
        ""
      ],
      "execution_count": null,
      "outputs": []
    },
    {
      "cell_type": "markdown",
      "metadata": {
        "id": "_96mzpydI9jO"
      },
      "source": [
        "# Theoretical questions"
      ]
    },
    {
      "cell_type": "markdown",
      "metadata": {
        "id": "cJEIPQS8JFLU"
      },
      "source": [
        "Consider the case of the above system with L = 3, h = 0.2, and J = 1. "
      ]
    },
    {
      "cell_type": "markdown",
      "metadata": {
        "id": "W3aV94iDJJSl"
      },
      "source": [
        "a) What are the probabilities $P_2(1)$ and $P_2(−1)$ that $\\sigma _2 = 1$ and $\\sigma_2 = −1$, respectively, if the system’s temperature is ﬁxed at $T = 2/k_B$?\n"
      ]
    },
    {
      "cell_type": "markdown",
      "metadata": {
        "id": "4CAhxThKKOI8"
      },
      "source": [
        "For $\\sigma_2 =-1$ we have $\\vec{\\sigma} = (a,-1,b)$ with $a,b \\in\\{-1,1\\}$ \\\\\n",
        "The total energy for that configuration is given by \\\\\n",
        "\\begin{align}\n",
        "H(\\vec{\\sigma}) &= -\\frac{a}{2}(-1+b)-0.2a+\\frac{1}{2}(a+b)+0.2 - \\frac{b}{2}(-1+a)-0.2b \\\\\n",
        "&= 0.5(-2ab +2a + 2b) 0.2 -0.2a-0.2b \\\\\n",
        "&= -ab + a+b -0.2 - 0.2b + 0.2\\\\\n",
        "H(\\vec{\\sigma}) &=0.8a +0.8b -ab+0.2\n",
        "\\end{align}\n",
        "\n",
        "we have the following configuration : \\\\\n",
        "$(1,-1,1);(1,-1,-1);(-1,-1,-1);(-1,-1,1)$ with $H = 0.8,H =1.2, H=-2.4$,and $ H=1.2$ as respectives energy.\n"
      ]
    },
    {
      "cell_type": "markdown",
      "metadata": {
        "id": "8ARRtRjCPwjF"
      },
      "source": [
        "For $\\sigma_2 =1$ we have $\\vec{\\sigma} = (a,1,b)$ with $a,b \\in\\{-1,1\\}$ \\\\\n",
        "The total energy for that configuration is given by \\\\\\\\\n",
        "\n",
        "\\begin{align}\n",
        "H(\\vec{\\sigma}) &= -0.8a -0.8b -ab-0.2\n",
        "\\end{align}\n",
        "\n",
        "we have the following configuration : \\\\\n",
        "$(1,1,1);(-1,1,1);(-1,1,-1);(1,1,-1)$ with $H = -2.8,H =0.8, H=0.4$,and $ H=0.8$ as respectives energy. "
      ]
    },
    {
      "cell_type": "markdown",
      "metadata": {
        "id": "LLj5RhobRynQ"
      },
      "source": [
        "Let's compute the partifion function"
      ]
    },
    {
      "cell_type": "markdown",
      "metadata": {
        "id": "iaaFgbH7UdQh"
      },
      "source": [
        "$Z= \\exp(-0.5*0.8)+\\exp(-0.5*1.2)+\\exp(0.5*2.4)+\\exp(-0.5*1.2)+\\exp(-0.5*2.8)+\\exp(0.5*2.8) + \\exp(-0.5*0.8)+\\exp(-0.5*0.4)+\\exp(-0.5*0.8)$\\\\\n",
        "$Z=11.302631052954176$"
      ]
    },
    {
      "cell_type": "code",
      "metadata": {
        "colab": {
          "base_uri": "https://localhost:8080/"
        },
        "id": "ftlNgOtGb1Sy",
        "outputId": "d91292ef-c13c-46cc-eeb5-aa8055b84617"
      },
      "source": [
        "3*np.exp(-0.4) + 2*np.exp(-0.6) + np.exp(1.2) + np.exp(1.4) + np.exp(-0.2)"
      ],
      "execution_count": null,
      "outputs": [
        {
          "output_type": "execute_result",
          "data": {
            "text/plain": [
              "11.302631052954176"
            ]
          },
          "metadata": {
            "tags": []
          },
          "execution_count": 29
        }
      ]
    },
    {
      "cell_type": "markdown",
      "metadata": {
        "id": "dRdgXEBqW033"
      },
      "source": [
        "Let's compute the probabilities"
      ]
    },
    {
      "cell_type": "markdown",
      "metadata": {
        "id": "uAVHDOI4W5sf"
      },
      "source": [
        "$P(\\sigma_2 =-1) = \\frac{e^{-0.4} + e^{-0.6} + e^{1.2} + e^{-0.6}}{Z} = 0.45$ \\\\\n",
        "$P(\\sigma_2=1) = \\frac{e^{1.4} + 2e^{-0.4} + e^{-0.2}}{Z}  = 0.55 $ \\\\"
      ]
    },
    {
      "cell_type": "code",
      "metadata": {
        "colab": {
          "base_uri": "https://localhost:8080/"
        },
        "id": "jL5Vn-tcb-FC",
        "outputId": "0cc50749-de4b-438f-a2ae-3ce3a1b971db"
      },
      "source": [
        "(np.exp(-0.4) + np.exp(-0.6) + np.exp(1.2) + np.exp(-0.6))/(3*np.exp(-0.4) + 2*np.exp(-0.6) + np.exp(1.2) + np.exp(1.4) + np.exp(-0.2))"
      ],
      "execution_count": null,
      "outputs": [
        {
          "output_type": "execute_result",
          "data": {
            "text/plain": [
              "0.450166002687522"
            ]
          },
          "metadata": {
            "tags": []
          },
          "execution_count": 30
        }
      ]
    },
    {
      "cell_type": "code",
      "metadata": {
        "colab": {
          "base_uri": "https://localhost:8080/"
        },
        "id": "uwAndnFucLVL",
        "outputId": "ef4720b5-304e-4a23-e3a8-498bf4a2eec3"
      },
      "source": [
        "(np.exp(1.4) + 2*np.exp(-0.4) + np.exp(-0.2))/(3*np.exp(-0.4) + 2*np.exp(-0.6) + np.exp(1.2) + np.exp(1.4) + np.exp(-0.2))"
      ],
      "execution_count": null,
      "outputs": [
        {
          "output_type": "execute_result",
          "data": {
            "text/plain": [
              "0.5498339973124778"
            ]
          },
          "metadata": {
            "tags": []
          },
          "execution_count": 31
        }
      ]
    },
    {
      "cell_type": "markdown",
      "metadata": {
        "id": "0Vh50Q1nYbrU"
      },
      "source": [
        "a) What is the probability $P_M(3)$ that the system’s total magnetization $M = 3$ at the temperature $T = 2/k_B$? \\\\\n",
        "\n",
        "$\\beta = 0.5$\n"
      ]
    },
    {
      "cell_type": "markdown",
      "metadata": {
        "id": "dturF4MjYrfr"
      },
      "source": [
        "Let's consider a magnetization here as non absolute value. The sample which give that result is $\\vec{\\sigma} = (1,1,1)$. From this we have: \\\\\n",
        "$P_M(3) = \\frac{e^{0.5*2.8}}{Z} = 0.36$ \\\\\n",
        "But if the magnatization is the absolute value, we have : \\\\\n",
        "$P_M(3) = \\frac{e^{0.5*2.8}+e^{0.5*2.4}}{Z} = 0.65$ "
      ]
    },
    {
      "cell_type": "code",
      "metadata": {
        "colab": {
          "base_uri": "https://localhost:8080/"
        },
        "id": "6vlSv3IyccID",
        "outputId": "bb06f862-01ce-4a24-b6b8-a313e4c4b187"
      },
      "source": [
        "np.exp(1.4)/(3*np.exp(-0.4) + 2*np.exp(-0.6) + np.exp(1.2) + np.exp(1.4) + np.exp(-0.2))"
      ],
      "execution_count": null,
      "outputs": [
        {
          "output_type": "execute_result",
          "data": {
            "text/plain": [
              "0.3587837157424301"
            ]
          },
          "metadata": {
            "tags": []
          },
          "execution_count": 32
        }
      ]
    },
    {
      "cell_type": "code",
      "metadata": {
        "colab": {
          "base_uri": "https://localhost:8080/"
        },
        "id": "MC0OaNRcW0PA",
        "outputId": "30dc921f-7cd3-4a85-e399-42738bc2cc23"
      },
      "source": [
        "(np.exp(1.4)+np.exp(0.5*2.4)) /(3*np.exp(-0.4) + 2*np.exp(-0.6) + np.exp(1.2) + np.exp(1.4) + np.exp(-0.2))"
      ],
      "execution_count": null,
      "outputs": [
        {
          "output_type": "execute_result",
          "data": {
            "text/plain": [
              "0.6525309775243464"
            ]
          },
          "metadata": {
            "tags": []
          },
          "execution_count": 33
        }
      ]
    },
    {
      "cell_type": "markdown",
      "metadata": {
        "id": "PPK-4HJzcuYc"
      },
      "source": [
        "c) Check your results using your python simulations."
      ]
    },
    {
      "cell_type": "markdown",
      "metadata": {
        "id": "Nk2HNpRSVeZR"
      },
      "source": [
        "To do that, we will generate a large number of good samples in oder the compute the appearance probability of specific sample which we will compare to the theoretical value."
      ]
    },
    {
      "cell_type": "code",
      "metadata": {
        "id": "oeNsOiQ_JAst"
      },
      "source": [
        "h = 0.2; beta = 0.5; L=3; te = 30000; tc = 5000;J=1;N=1000;\n",
        "sample = Samples_Metropolis(L,beta,J,h,te,tc,N)"
      ],
      "execution_count": null,
      "outputs": []
    },
    {
      "cell_type": "markdown",
      "metadata": {
        "id": "u2Tnw95tVaeg"
      },
      "source": [
        "Numerical probability of $P(\\sigma_2=1)$"
      ]
    },
    {
      "cell_type": "code",
      "metadata": {
        "colab": {
          "base_uri": "https://localhost:8080/"
        },
        "id": "w0hionI28gyS",
        "outputId": "2a56a389-67a8-44a3-f4ef-e108281d7c66"
      },
      "source": [
        "compt = 0\r\n",
        "for l in sample:\r\n",
        "  if l[1]==1:\r\n",
        "    compt +=1\r\n",
        "print(\"The numerical probability is {}\".format(compt/N))"
      ],
      "execution_count": null,
      "outputs": [
        {
          "output_type": "stream",
          "text": [
            "The numerical probability is 0.625\n"
          ],
          "name": "stdout"
        }
      ]
    },
    {
      "cell_type": "markdown",
      "metadata": {
        "id": "hL8pzbEjXbP4"
      },
      "source": [
        "Numerical probability of $P(\\sigma_2=-1)$"
      ]
    },
    {
      "cell_type": "code",
      "metadata": {
        "colab": {
          "base_uri": "https://localhost:8080/"
        },
        "id": "PFmIa96aVT9w",
        "outputId": "54e00ab9-fe33-4ecb-c856-416b851144d3"
      },
      "source": [
        "compt = 0\r\n",
        "for l in sample:\r\n",
        "  if l[1]==-1:\r\n",
        "    compt +=1\r\n",
        "print(\"The numerical probability is {}\".format(compt/N))"
      ],
      "execution_count": null,
      "outputs": [
        {
          "output_type": "stream",
          "text": [
            "The numerical probability is 0.376\n"
          ],
          "name": "stdout"
        }
      ]
    },
    {
      "cell_type": "markdown",
      "metadata": {
        "id": "BF_--oIpXkTA"
      },
      "source": [
        "Comparation between numerical and theoretical probability."
      ]
    },
    {
      "cell_type": "code",
      "metadata": {
        "id": "-PNovQHgbXBx"
      },
      "source": [
        "h = 0.2; beta = 0.5; L=3; te = 30000; tc = 5000;J=1;N=1000;\r\n",
        "prob1 = [] #for sigma 2= 1\r\n",
        "prob2 = [] # for sigma 2= -1\r\n",
        "for i in range(20):\r\n",
        "  sample = Samples_Metropolis(L,beta,J,h,te,tc,N)\r\n",
        "  compt1 = 0\r\n",
        "  compt2 =0\r\n",
        "  for l in sample:\r\n",
        "    if l[1]==1:\r\n",
        "      compt1 +=1\r\n",
        "    if l[1]==-1:\r\n",
        "      compt2 +=1\r\n",
        "  prob1.append(compt1/N)\r\n",
        "  prob2.append(compt2/N)"
      ],
      "execution_count": null,
      "outputs": []
    },
    {
      "cell_type": "code",
      "metadata": {
        "id": "xln5zJc6yFWQ",
        "colab": {
          "base_uri": "https://localhost:8080/",
          "height": 338
        },
        "outputId": "d38ff485-ed01-4602-a8a5-5e4e0c09cd90"
      },
      "source": [
        "plt.figure(figsize=(10,5))\r\n",
        "plt.xlabel(\"Dirtribution for sigma 2 = {}\".format(1), fontsize=14)\r\n",
        "res = plt.hist(prob1, bins=30, density=True)"
      ],
      "execution_count": null,
      "outputs": [
        {
          "output_type": "display_data",
          "data": {
            "image/png": "[encoded data removed]",
            "text/plain": [
              "<Figure size 720x360 with 1 Axes>"
            ]
          },
          "metadata": {
            "tags": [],
            "needs_background": "light"
          }
        }
      ]
    },
    {
      "cell_type": "code",
      "metadata": {
        "id": "EsPBzWIkyVqw",
        "colab": {
          "base_uri": "https://localhost:8080/",
          "height": 338
        },
        "outputId": "f23b2039-c563-47f0-c296-8e56f8b7f7b2"
      },
      "source": [
        "plt.figure(figsize=(10,5))\r\n",
        "plt.xlabel(\"Dirtribution for sigma 2 = {}\".format(-1), fontsize=14)\r\n",
        "res = plt.hist(prob2, bins=30, density=True)"
      ],
      "execution_count": null,
      "outputs": [
        {
          "output_type": "display_data",
          "data": {
            "image/png": "[encoded data removed]",
            "text/plain": [
              "<Figure size 720x360 with 1 Axes>"
            ]
          },
          "metadata": {
            "tags": [],
            "needs_background": "light"
          }
        }
      ]
    },
    {
      "cell_type": "markdown",
      "metadata": {
        "id": "Yc3IgYW_er2d"
      },
      "source": [
        " d) In your simulations for L = 200, consider a subsystem formed by spins $\\{\\sigma_1, \\sigma_2, \\sigma_3\\}$ and estimate numerically $P_2(1), P_2(−1)$, and $P_M(3)$. How do these results compare with your theoretical estimates for the case of $L = 3$? Discuss your observations.\r\n"
      ]
    },
    {
      "cell_type": "code",
      "metadata": {
        "id": "MOqlTD9jfFwc"
      },
      "source": [
        "h = 0.2; beta = 0.5; L=200; te = 30000; tc = 5000;J=1;N=1000;\r\n",
        "prob1 = [] #for sigma 2= 1\r\n",
        "prob2 = [] # for sigma 2= -1\r\n",
        "sample = Samples_Metropolis(L,beta,J,h,te,tc,N)\r\n",
        "compt1 = 0\r\n",
        "compt2 =0\r\n",
        "for l in sample:\r\n",
        "  if l[1]==1:\r\n",
        "    compt1 +=1\r\n",
        "  if l[1]==-1:\r\n",
        "    compt2 +=1\r\n",
        "prob1.append(compt1/N)\r\n",
        "prob2.append(compt2/N)\r\n",
        "print(\"The probability to have sigma 2 = 1 with for {} spin is {}\".format(L,prob1))\r\n",
        "print(\"The probability to have sigma 2 = -1 with for {} spin is {}\".format(L,prob2))"
      ],
      "execution_count": null,
      "outputs": []
    }
  ]
}